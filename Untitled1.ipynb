{
 "cells": [
  {
   "cell_type": "code",
   "execution_count": 12,
   "id": "46012d72",
   "metadata": {},
   "outputs": [
    {
     "name": "stdout",
     "output_type": "stream",
     "text": [
      "время создания блока: 2024-02-18 17:58:32.327173\n",
      "данные: {'data': 'Transaction 1'}\n",
      "хэш: 5d52a1fc9871441986191260a38b64e964fab39f22cc96e48d29ceef4c787381\n",
      "хэш пред блока: \n"
     ]
    }
   ],
   "source": [
    "import hashlib\n",
    "import datetime\n",
    "\n",
    "class block:\n",
    "    def  init(self, timestamp, data, previous_hash):\n",
    "        self.timestamp = timestamp\n",
    "        self.previous_hash = previous_hash\n",
    "        self.data = data\n",
    "        self.hash = self.calculate_hash()\n",
    "        \n",
    "    def calculate_hash(self):   \n",
    "        hash_string = str(self.timestamp) + str(self.data) + str(self.previous_hash)\n",
    "        return hashlib.sha256(hash_string.encode()).hexdigest()\n",
    "myBlock = block(datetime.datetime.now(), {\"data\":\"Transaction 1\"},\"\")\n",
    "\n",
    "class Blockchain:\n",
    "    def init(self):\n",
    "        self.chain = [self.create_genesis_block()]\n",
    "        \n",
    "    def create_genesis_block(self):\n",
    "        return block(datetime.datetime.now(), \"Genesis Block\", \"0\")\n",
    "    \n",
    "    def add_block(self, new_block):\n",
    "        new_block.previous_hash = self.chain[-1].hash\n",
    "        new_block.hash = new_block.calculate_hash()\n",
    "        self.chain.append(new_block)\n",
    "        \n",
    "    def is_chain_validself():\n",
    "        for i in range(1, len(self.chain)):\n",
    "            current_block = self.chain[1]\n",
    "            previous_block = self.chain[i-1]\n",
    "            if current_block.hash != current_block.calculate_hash():\n",
    "                return False\n",
    "            \n",
    "        if current_block.previous_hash != current_block.hash:\n",
    "            return False\n",
    "        return True\n",
    "            \n",
    "\n",
    "\n",
    "print(\"Время создания блока:\", myBlock.timestamp)\n",
    "print(\"Данные:\", myBlock.data)\n",
    "print(\"Хэш блока:\", myBlock.hash)\n",
    "print(\"Хэш предыдущего блока:\", myBlock.timestamp)\n"
   ]
  },
  {
   "cell_type": "code",
   "execution_count": null,
   "id": "857a62fe",
   "metadata": {},
   "outputs": [],
   "source": []
  }
 ],
 "metadata": {
  "kernelspec": {
   "display_name": "Python 3 (ipykernel)",
   "language": "python",
   "name": "python3"
  },
  "language_info": {
   "codemirror_mode": {
    "name": "ipython",
    "version": 3
   },
   "file_extension": ".py",
   "mimetype": "text/x-python",
   "name": "python",
   "nbconvert_exporter": "python",
   "pygments_lexer": "ipython3",
   "version": "3.11.5"
  }
 },
 "nbformat": 4,
 "nbformat_minor": 5
}
